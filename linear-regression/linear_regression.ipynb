{
 "cells": [
  {
   "cell_type": "markdown",
   "metadata": {},
   "source": [
    "## Linear Regression\n",
    "\n",
    "Linear regression is a fundamental statistical modeling technique used to predict healthcare insurance charges based on various features such as age, BMI, and smoking status. In this notebook, we'll explore how linear regression can help us understand the relationship between these features and insurance costs."
   ]
  },
  {
   "cell_type": "code",
   "execution_count": 1,
   "metadata": {},
   "outputs": [
    {
     "name": "stdout",
     "output_type": "stream",
     "text": [
      "Requirement already satisfied: pandas in /Users/abdurrezakefe/Desktop/ml-fun/venv/lib/python3.13/site-packages (2.2.3)\n",
      "Requirement already satisfied: numpy>=1.26.0 in /Users/abdurrezakefe/Desktop/ml-fun/venv/lib/python3.13/site-packages (from pandas) (2.2.2)\n",
      "Requirement already satisfied: python-dateutil>=2.8.2 in /Users/abdurrezakefe/Desktop/ml-fun/venv/lib/python3.13/site-packages (from pandas) (2.9.0.post0)\n",
      "Requirement already satisfied: pytz>=2020.1 in /Users/abdurrezakefe/Desktop/ml-fun/venv/lib/python3.13/site-packages (from pandas) (2024.2)\n",
      "Requirement already satisfied: tzdata>=2022.7 in /Users/abdurrezakefe/Desktop/ml-fun/venv/lib/python3.13/site-packages (from pandas) (2025.1)\n",
      "Requirement already satisfied: six>=1.5 in /Users/abdurrezakefe/Desktop/ml-fun/venv/lib/python3.13/site-packages (from python-dateutil>=2.8.2->pandas) (1.17.0)\n",
      "\n",
      "\u001b[1m[\u001b[0m\u001b[34;49mnotice\u001b[0m\u001b[1;39;49m]\u001b[0m\u001b[39;49m A new release of pip is available: \u001b[0m\u001b[31;49m24.2\u001b[0m\u001b[39;49m -> \u001b[0m\u001b[32;49m25.0\u001b[0m\n",
      "\u001b[1m[\u001b[0m\u001b[34;49mnotice\u001b[0m\u001b[1;39;49m]\u001b[0m\u001b[39;49m To update, run: \u001b[0m\u001b[32;49mpip install --upgrade pip\u001b[0m\n",
      "Requirement already satisfied: numpy in /Users/abdurrezakefe/Desktop/ml-fun/venv/lib/python3.13/site-packages (2.2.2)\n",
      "\n",
      "\u001b[1m[\u001b[0m\u001b[34;49mnotice\u001b[0m\u001b[1;39;49m]\u001b[0m\u001b[39;49m A new release of pip is available: \u001b[0m\u001b[31;49m24.2\u001b[0m\u001b[39;49m -> \u001b[0m\u001b[32;49m25.0\u001b[0m\n",
      "\u001b[1m[\u001b[0m\u001b[34;49mnotice\u001b[0m\u001b[1;39;49m]\u001b[0m\u001b[39;49m To update, run: \u001b[0m\u001b[32;49mpip install --upgrade pip\u001b[0m\n",
      "Requirement already satisfied: matplotlib in /Users/abdurrezakefe/Desktop/ml-fun/venv/lib/python3.13/site-packages (3.10.0)\n",
      "Requirement already satisfied: contourpy>=1.0.1 in /Users/abdurrezakefe/Desktop/ml-fun/venv/lib/python3.13/site-packages (from matplotlib) (1.3.1)\n",
      "Requirement already satisfied: cycler>=0.10 in /Users/abdurrezakefe/Desktop/ml-fun/venv/lib/python3.13/site-packages (from matplotlib) (0.12.1)\n",
      "Requirement already satisfied: fonttools>=4.22.0 in /Users/abdurrezakefe/Desktop/ml-fun/venv/lib/python3.13/site-packages (from matplotlib) (4.55.8)\n",
      "Requirement already satisfied: kiwisolver>=1.3.1 in /Users/abdurrezakefe/Desktop/ml-fun/venv/lib/python3.13/site-packages (from matplotlib) (1.4.8)\n",
      "Requirement already satisfied: numpy>=1.23 in /Users/abdurrezakefe/Desktop/ml-fun/venv/lib/python3.13/site-packages (from matplotlib) (2.2.2)\n",
      "Requirement already satisfied: packaging>=20.0 in /Users/abdurrezakefe/Desktop/ml-fun/venv/lib/python3.13/site-packages (from matplotlib) (24.2)\n",
      "Requirement already satisfied: pillow>=8 in /Users/abdurrezakefe/Desktop/ml-fun/venv/lib/python3.13/site-packages (from matplotlib) (11.1.0)\n",
      "Requirement already satisfied: pyparsing>=2.3.1 in /Users/abdurrezakefe/Desktop/ml-fun/venv/lib/python3.13/site-packages (from matplotlib) (3.2.1)\n",
      "Requirement already satisfied: python-dateutil>=2.7 in /Users/abdurrezakefe/Desktop/ml-fun/venv/lib/python3.13/site-packages (from matplotlib) (2.9.0.post0)\n",
      "Requirement already satisfied: six>=1.5 in /Users/abdurrezakefe/Desktop/ml-fun/venv/lib/python3.13/site-packages (from python-dateutil>=2.7->matplotlib) (1.17.0)\n",
      "\n",
      "\u001b[1m[\u001b[0m\u001b[34;49mnotice\u001b[0m\u001b[1;39;49m]\u001b[0m\u001b[39;49m A new release of pip is available: \u001b[0m\u001b[31;49m24.2\u001b[0m\u001b[39;49m -> \u001b[0m\u001b[32;49m25.0\u001b[0m\n",
      "\u001b[1m[\u001b[0m\u001b[34;49mnotice\u001b[0m\u001b[1;39;49m]\u001b[0m\u001b[39;49m To update, run: \u001b[0m\u001b[32;49mpip install --upgrade pip\u001b[0m\n",
      "Requirement already satisfied: scikit-learn in /Users/abdurrezakefe/Desktop/ml-fun/venv/lib/python3.13/site-packages (1.6.1)\n",
      "Requirement already satisfied: numpy>=1.19.5 in /Users/abdurrezakefe/Desktop/ml-fun/venv/lib/python3.13/site-packages (from scikit-learn) (2.2.2)\n",
      "Requirement already satisfied: scipy>=1.6.0 in /Users/abdurrezakefe/Desktop/ml-fun/venv/lib/python3.13/site-packages (from scikit-learn) (1.15.1)\n",
      "Requirement already satisfied: joblib>=1.2.0 in /Users/abdurrezakefe/Desktop/ml-fun/venv/lib/python3.13/site-packages (from scikit-learn) (1.4.2)\n",
      "Requirement already satisfied: threadpoolctl>=3.1.0 in /Users/abdurrezakefe/Desktop/ml-fun/venv/lib/python3.13/site-packages (from scikit-learn) (3.5.0)\n",
      "\n",
      "\u001b[1m[\u001b[0m\u001b[34;49mnotice\u001b[0m\u001b[1;39;49m]\u001b[0m\u001b[39;49m A new release of pip is available: \u001b[0m\u001b[31;49m24.2\u001b[0m\u001b[39;49m -> \u001b[0m\u001b[32;49m25.0\u001b[0m\n",
      "\u001b[1m[\u001b[0m\u001b[34;49mnotice\u001b[0m\u001b[1;39;49m]\u001b[0m\u001b[39;49m To update, run: \u001b[0m\u001b[32;49mpip install --upgrade pip\u001b[0m\n",
      "Requirement already satisfied: tqdm in /Users/abdurrezakefe/Desktop/ml-fun/venv/lib/python3.13/site-packages (4.67.1)\n",
      "\n",
      "\u001b[1m[\u001b[0m\u001b[34;49mnotice\u001b[0m\u001b[1;39;49m]\u001b[0m\u001b[39;49m A new release of pip is available: \u001b[0m\u001b[31;49m24.2\u001b[0m\u001b[39;49m -> \u001b[0m\u001b[32;49m25.0\u001b[0m\n",
      "\u001b[1m[\u001b[0m\u001b[34;49mnotice\u001b[0m\u001b[1;39;49m]\u001b[0m\u001b[39;49m To update, run: \u001b[0m\u001b[32;49mpip install --upgrade pip\u001b[0m\n"
     ]
    }
   ],
   "source": [
    "! pip install pandas\n",
    "! pip install numpy\n",
    "! pip install matplotlib\n",
    "! pip install scikit-learn\n",
    "! pip install tqdm"
   ]
  },
  {
   "cell_type": "code",
   "execution_count": 2,
   "metadata": {},
   "outputs": [
    {
     "data": {
      "text/html": [
       "<div>\n",
       "<style scoped>\n",
       "    .dataframe tbody tr th:only-of-type {\n",
       "        vertical-align: middle;\n",
       "    }\n",
       "\n",
       "    .dataframe tbody tr th {\n",
       "        vertical-align: top;\n",
       "    }\n",
       "\n",
       "    .dataframe thead th {\n",
       "        text-align: right;\n",
       "    }\n",
       "</style>\n",
       "<table border=\"1\" class=\"dataframe\">\n",
       "  <thead>\n",
       "    <tr style=\"text-align: right;\">\n",
       "      <th></th>\n",
       "      <th>age</th>\n",
       "      <th>sex</th>\n",
       "      <th>bmi</th>\n",
       "      <th>children</th>\n",
       "      <th>smoker</th>\n",
       "      <th>region</th>\n",
       "      <th>charges</th>\n",
       "    </tr>\n",
       "  </thead>\n",
       "  <tbody>\n",
       "    <tr>\n",
       "      <th>0</th>\n",
       "      <td>19</td>\n",
       "      <td>female</td>\n",
       "      <td>27.900</td>\n",
       "      <td>0</td>\n",
       "      <td>yes</td>\n",
       "      <td>southwest</td>\n",
       "      <td>16884.92400</td>\n",
       "    </tr>\n",
       "    <tr>\n",
       "      <th>1</th>\n",
       "      <td>18</td>\n",
       "      <td>male</td>\n",
       "      <td>33.770</td>\n",
       "      <td>1</td>\n",
       "      <td>no</td>\n",
       "      <td>southeast</td>\n",
       "      <td>1725.55230</td>\n",
       "    </tr>\n",
       "    <tr>\n",
       "      <th>2</th>\n",
       "      <td>28</td>\n",
       "      <td>male</td>\n",
       "      <td>33.000</td>\n",
       "      <td>3</td>\n",
       "      <td>no</td>\n",
       "      <td>southeast</td>\n",
       "      <td>4449.46200</td>\n",
       "    </tr>\n",
       "    <tr>\n",
       "      <th>3</th>\n",
       "      <td>33</td>\n",
       "      <td>male</td>\n",
       "      <td>22.705</td>\n",
       "      <td>0</td>\n",
       "      <td>no</td>\n",
       "      <td>northwest</td>\n",
       "      <td>21984.47061</td>\n",
       "    </tr>\n",
       "    <tr>\n",
       "      <th>4</th>\n",
       "      <td>32</td>\n",
       "      <td>male</td>\n",
       "      <td>28.880</td>\n",
       "      <td>0</td>\n",
       "      <td>no</td>\n",
       "      <td>northwest</td>\n",
       "      <td>3866.85520</td>\n",
       "    </tr>\n",
       "  </tbody>\n",
       "</table>\n",
       "</div>"
      ],
      "text/plain": [
       "   age     sex     bmi  children smoker     region      charges\n",
       "0   19  female  27.900         0    yes  southwest  16884.92400\n",
       "1   18    male  33.770         1     no  southeast   1725.55230\n",
       "2   28    male  33.000         3     no  southeast   4449.46200\n",
       "3   33    male  22.705         0     no  northwest  21984.47061\n",
       "4   32    male  28.880         0     no  northwest   3866.85520"
      ]
     },
     "execution_count": 2,
     "metadata": {},
     "output_type": "execute_result"
    }
   ],
   "source": [
    "# import data\n",
    "\n",
    "import pandas as pd\n",
    "data = pd.read_csv(\"Medical_insurance.csv\")\n",
    "data.head()\n"
   ]
  },
  {
   "cell_type": "code",
   "execution_count": 3,
   "metadata": {},
   "outputs": [
    {
     "name": "stdout",
     "output_type": "stream",
     "text": [
      "Encoded categories:\n",
      "\n",
      "sex:\n",
      "female: 0\n",
      "male: 1\n",
      "\n",
      "smoker:\n",
      "no: 0\n",
      "yes: 1\n",
      "\n",
      "region:\n",
      "northeast: 0\n",
      "northwest: 1\n",
      "southeast: 2\n",
      "southwest: 3\n"
     ]
    }
   ],
   "source": [
    "from sklearn.preprocessing import LabelEncoder\n",
    "\n",
    "# Create label encoders for categorical columns\n",
    "categorical_columns = ['sex', 'smoker', 'region']\n",
    "label_encoders = {}\n",
    "\n",
    "# Convert categorical columns to numerical\n",
    "for column in categorical_columns:\n",
    "    label_encoders[column] = LabelEncoder()\n",
    "    data[column] = label_encoders[column].fit_transform(data[column])\n",
    "\n",
    "print(\"Encoded categories:\")\n",
    "for column in categorical_columns:\n",
    "    print(f\"\\n{column}:\")\n",
    "    for i, label in enumerate(label_encoders[column].classes_):\n",
    "        print(f\"{label}: {i}\")"
   ]
  },
  {
   "cell_type": "code",
   "execution_count": 4,
   "metadata": {},
   "outputs": [
    {
     "data": {
      "text/plain": [
       "(2772, 7)"
      ]
     },
     "execution_count": 4,
     "metadata": {},
     "output_type": "execute_result"
    }
   ],
   "source": [
    "data.shape"
   ]
  },
  {
   "cell_type": "code",
   "execution_count": 5,
   "metadata": {
    "vscode": {
     "languageId": "ruby"
    }
   },
   "outputs": [
    {
     "data": {
      "text/html": [
       "<div>\n",
       "<style scoped>\n",
       "    .dataframe tbody tr th:only-of-type {\n",
       "        vertical-align: middle;\n",
       "    }\n",
       "\n",
       "    .dataframe tbody tr th {\n",
       "        vertical-align: top;\n",
       "    }\n",
       "\n",
       "    .dataframe thead th {\n",
       "        text-align: right;\n",
       "    }\n",
       "</style>\n",
       "<table border=\"1\" class=\"dataframe\">\n",
       "  <thead>\n",
       "    <tr style=\"text-align: right;\">\n",
       "      <th></th>\n",
       "      <th>age</th>\n",
       "      <th>sex</th>\n",
       "      <th>bmi</th>\n",
       "      <th>children</th>\n",
       "      <th>smoker</th>\n",
       "      <th>region</th>\n",
       "      <th>charges</th>\n",
       "    </tr>\n",
       "  </thead>\n",
       "  <tbody>\n",
       "    <tr>\n",
       "      <th>0</th>\n",
       "      <td>0.021739</td>\n",
       "      <td>0.0</td>\n",
       "      <td>0.321227</td>\n",
       "      <td>0.0</td>\n",
       "      <td>1.0</td>\n",
       "      <td>1.000000</td>\n",
       "      <td>0.251611</td>\n",
       "    </tr>\n",
       "    <tr>\n",
       "      <th>1</th>\n",
       "      <td>0.000000</td>\n",
       "      <td>1.0</td>\n",
       "      <td>0.479150</td>\n",
       "      <td>0.2</td>\n",
       "      <td>0.0</td>\n",
       "      <td>0.666667</td>\n",
       "      <td>0.009636</td>\n",
       "    </tr>\n",
       "    <tr>\n",
       "      <th>2</th>\n",
       "      <td>0.217391</td>\n",
       "      <td>1.0</td>\n",
       "      <td>0.458434</td>\n",
       "      <td>0.6</td>\n",
       "      <td>0.0</td>\n",
       "      <td>0.666667</td>\n",
       "      <td>0.053115</td>\n",
       "    </tr>\n",
       "    <tr>\n",
       "      <th>3</th>\n",
       "      <td>0.326087</td>\n",
       "      <td>1.0</td>\n",
       "      <td>0.181464</td>\n",
       "      <td>0.0</td>\n",
       "      <td>0.0</td>\n",
       "      <td>0.333333</td>\n",
       "      <td>0.333010</td>\n",
       "    </tr>\n",
       "    <tr>\n",
       "      <th>4</th>\n",
       "      <td>0.304348</td>\n",
       "      <td>1.0</td>\n",
       "      <td>0.347592</td>\n",
       "      <td>0.0</td>\n",
       "      <td>0.0</td>\n",
       "      <td>0.333333</td>\n",
       "      <td>0.043816</td>\n",
       "    </tr>\n",
       "    <tr>\n",
       "      <th>...</th>\n",
       "      <td>...</td>\n",
       "      <td>...</td>\n",
       "      <td>...</td>\n",
       "      <td>...</td>\n",
       "      <td>...</td>\n",
       "      <td>...</td>\n",
       "      <td>...</td>\n",
       "    </tr>\n",
       "    <tr>\n",
       "      <th>2767</th>\n",
       "      <td>0.630435</td>\n",
       "      <td>0.0</td>\n",
       "      <td>0.789884</td>\n",
       "      <td>0.2</td>\n",
       "      <td>0.0</td>\n",
       "      <td>0.666667</td>\n",
       "      <td>0.118885</td>\n",
       "    </tr>\n",
       "    <tr>\n",
       "      <th>2768</th>\n",
       "      <td>0.065217</td>\n",
       "      <td>0.0</td>\n",
       "      <td>0.501480</td>\n",
       "      <td>0.0</td>\n",
       "      <td>0.0</td>\n",
       "      <td>1.000000</td>\n",
       "      <td>0.014339</td>\n",
       "    </tr>\n",
       "    <tr>\n",
       "      <th>2769</th>\n",
       "      <td>0.021739</td>\n",
       "      <td>1.0</td>\n",
       "      <td>0.270917</td>\n",
       "      <td>0.2</td>\n",
       "      <td>1.0</td>\n",
       "      <td>0.333333</td>\n",
       "      <td>0.244683</td>\n",
       "    </tr>\n",
       "    <tr>\n",
       "      <th>2770</th>\n",
       "      <td>0.108696</td>\n",
       "      <td>1.0</td>\n",
       "      <td>0.074119</td>\n",
       "      <td>0.0</td>\n",
       "      <td>0.0</td>\n",
       "      <td>0.333333</td>\n",
       "      <td>0.326799</td>\n",
       "    </tr>\n",
       "    <tr>\n",
       "      <th>2771</th>\n",
       "      <td>0.782609</td>\n",
       "      <td>1.0</td>\n",
       "      <td>0.420769</td>\n",
       "      <td>0.0</td>\n",
       "      <td>0.0</td>\n",
       "      <td>1.000000</td>\n",
       "      <td>0.139326</td>\n",
       "    </tr>\n",
       "  </tbody>\n",
       "</table>\n",
       "<p>2772 rows × 7 columns</p>\n",
       "</div>"
      ],
      "text/plain": [
       "           age  sex       bmi  children  smoker    region   charges\n",
       "0     0.021739  0.0  0.321227       0.0     1.0  1.000000  0.251611\n",
       "1     0.000000  1.0  0.479150       0.2     0.0  0.666667  0.009636\n",
       "2     0.217391  1.0  0.458434       0.6     0.0  0.666667  0.053115\n",
       "3     0.326087  1.0  0.181464       0.0     0.0  0.333333  0.333010\n",
       "4     0.304348  1.0  0.347592       0.0     0.0  0.333333  0.043816\n",
       "...        ...  ...       ...       ...     ...       ...       ...\n",
       "2767  0.630435  0.0  0.789884       0.2     0.0  0.666667  0.118885\n",
       "2768  0.065217  0.0  0.501480       0.0     0.0  1.000000  0.014339\n",
       "2769  0.021739  1.0  0.270917       0.2     1.0  0.333333  0.244683\n",
       "2770  0.108696  1.0  0.074119       0.0     0.0  0.333333  0.326799\n",
       "2771  0.782609  1.0  0.420769       0.0     0.0  1.000000  0.139326\n",
       "\n",
       "[2772 rows x 7 columns]"
      ]
     },
     "execution_count": 5,
     "metadata": {},
     "output_type": "execute_result"
    }
   ],
   "source": [
    "from sklearn.preprocessing import MinMaxScaler\n",
    "\n",
    "# Create scaler\n",
    "scaler = MinMaxScaler()\n",
    "\n",
    "# Scale all columns since they are all numeric now\n",
    "columns_to_scale = ['age', 'sex', 'bmi', 'children', 'smoker', 'region', 'charges']\n",
    "data[columns_to_scale] = scaler.fit_transform(data[columns_to_scale])\n",
    "data\n"
   ]
  },
  {
   "cell_type": "markdown",
   "metadata": {},
   "source": []
  },
  {
   "cell_type": "code",
   "execution_count": 6,
   "metadata": {},
   "outputs": [],
   "source": [
    "\n",
    "from sklearn.model_selection import train_test_split\n",
    "\n",
    "# split data into train and test sets\n",
    "X_train, X_test, y_train, y_test = train_test_split(data.drop('charges', axis=1)\n",
    "                                                    , data['charges'], test_size=0.2, random_state=0)\n"
   ]
  },
  {
   "cell_type": "code",
   "execution_count": 7,
   "metadata": {},
   "outputs": [
    {
     "data": {
      "text/plain": [
       "((555, 6), (555,))"
      ]
     },
     "execution_count": 7,
     "metadata": {},
     "output_type": "execute_result"
    }
   ],
   "source": [
    "X_test.shape, y_test.shape"
   ]
  },
  {
   "cell_type": "code",
   "execution_count": 8,
   "metadata": {},
   "outputs": [
    {
     "data": {
      "text/plain": [
       "((2217, 6), (2217,))"
      ]
     },
     "execution_count": 8,
     "metadata": {},
     "output_type": "execute_result"
    }
   ],
   "source": [
    "X_train.shape, y_train.shape"
   ]
  },
  {
   "cell_type": "markdown",
   "metadata": {},
   "source": [
    "## The formulation\n",
    "\n",
    "##### The formulation can be expressed as:\n",
    "\n",
    "<div align=\"center\">\n",
    "\n",
    "$\\hat{y} =  x \\cdot w + \\beta$\n",
    "\n",
    "</div>\n",
    "\n",
    "Where:\n",
    "- $y_j$ is the predicted insurance charge for the $j$-th individual\n",
    "- $x_{ji}$ represents the $i$-th feature value for the $j$-th individual\n",
    "- $w_i$ is the weight coefficient for the $i$-th feature\n",
    "- $\\epsilon_j$ is the error term for the $j$-th prediction\n",
    "- $p$ is the number of features in our model\n",
    "\n",
    "##### But how can we train it?\n",
    "\n",
    "The idea is to start with random $w$ and $\\epsilon$ values and iteratively update them to minimize a Loss function.\n",
    "\n",
    "Note that $w$ and $x_i$ are vectors of size $m$ where $m$ is the number of features.\n",
    "\n",
    "We need to define a Loss here. Although there are multiple choices, teh most used one is MSE and let's use it here as well.\n",
    "\n",
    "\n",
    "### Loss function - Mean Squared Error\n",
    "\n",
    "If there are n datapoints we have:\n",
    "<div align=\"center\">\n",
    "\n",
    "$L= \\frac{1}{n} \\sum\\limits_{i=1}^n (y_i - \\hat{y}_i)^2$\n",
    "\n",
    "$L= \\frac{1}{n} \\sum\\limits_{i=1}^n (y_i - x_i \\cdot w + \\beta)^2$\n",
    "\n",
    "</div>\n",
    "\n",
    "### Gradient Descent\n",
    "\n",
    "To apply gradient descent on it, we must check the derivatives w.r.t $w$ and $\\beta$\n",
    "\n",
    "\n",
    "Let's derive the gradient with respect to $w$ and $\\beta$:\n",
    "\n",
    "For the weight vector $w$:\n",
    "<div align=\"center\">\n",
    "\n",
    "$\\frac{\\partial L}{\\partial w} = -\\frac{2}{n} \\sum\\limits_{i=1}^n x_i(y_i - x_i \\cdot w - \\beta)$\n",
    "\n",
    "</div>\n",
    "\n",
    "For the bias term $\\beta$:\n",
    "<div align=\"center\">\n",
    "\n",
    "$\\frac{\\partial L}{\\partial \\beta} = -\\frac{2}{n} \\sum\\limits_{i=1}^n (y_i - x_i \\cdot w - \\beta)$\n",
    "\n",
    "</div>\n",
    "\n",
    "The gradient descent update rules become:\n",
    "<div align=\"center\">\n",
    "\n",
    "$w_{t+1} = w_t - \\alpha \\frac{\\partial L}{\\partial w}$\n",
    "\n",
    "$\\beta_{t+1} = \\beta_t - \\alpha \\frac{\\partial L}{\\partial \\beta}$\n",
    "\n",
    "</div>\n",
    "\n",
    "where $\\alpha$ is the learning rate and $t$ is the iteration number.\n",
    "\n",
    "\n",
    "\n"
   ]
  },
  {
   "cell_type": "code",
   "execution_count": 9,
   "metadata": {},
   "outputs": [
    {
     "data": {
      "text/plain": [
       "(array([-0.76679759,  0.46269613, -1.69057314, -0.62163471, -1.42761203,\n",
       "        -1.37105285]),\n",
       " array([-1.07918898]))"
      ]
     },
     "execution_count": 9,
     "metadata": {},
     "output_type": "execute_result"
    }
   ],
   "source": [
    "alpha = 0.001\n",
    "\n",
    "import numpy as np\n",
    "\n",
    "w = np.random.normal(size=(6,))\n",
    "b = np.random.normal(size=(1,))\n",
    "w, b"
   ]
  },
  {
   "cell_type": "code",
   "execution_count": 10,
   "metadata": {},
   "outputs": [
    {
     "name": "stderr",
     "output_type": "stream",
     "text": [
      "100%|██████████| 10000/10000 [00:02<00:00, 3610.09it/s]\n"
     ]
    }
   ],
   "source": [
    "# training loop\n",
    "import tqdm\n",
    "\n",
    "mse_loss_training =  []\n",
    "mse_loss_validation = []\n",
    "\n",
    "for epoch in tqdm.tqdm(range(10000)):\n",
    "    \n",
    "    training_error = 0\n",
    "    w_grad = np.zeros((6,))\n",
    "    b_grad = 0\n",
    "    \n",
    "    y_hat = np.dot(X_train, w) + b\n",
    "    training_error = np.mean((y_train - y_hat)**2)\n",
    "\n",
    "    w_grad = 2 * np.dot((y_hat - y_train), X_train) / len(X_train)\n",
    "    b_grad = 2 * np.mean(y_hat - y_train)\n",
    "\n",
    "    w = w - alpha * w_grad\n",
    "    b = b - alpha * b_grad\n",
    "\n",
    "    mse_loss_training.append(training_error)\n",
    "\n",
    "    y_hat = np.dot(X_test, w) + b\n",
    "    validation_error = np.mean((y_test - y_hat)**2)\n",
    "    mse_loss_validation.append(validation_error)\n",
    "\n"
   ]
  },
  {
   "cell_type": "code",
   "execution_count": 13,
   "metadata": {},
   "outputs": [
    {
     "data": {
      "text/plain": [
       "<matplotlib.legend.Legend at 0x115022490>"
      ]
     },
     "execution_count": 13,
     "metadata": {},
     "output_type": "execute_result"
    },
    {
     "data": {
      "image/png": "[encoded data removed]",
      "text/plain": [
       "<Figure size 3000x1800 with 1 Axes>"
      ]
     },
     "metadata": {},
     "output_type": "display_data"
    }
   ],
   "source": [
    "import matplotlib.pyplot as plt \n",
    "plt.figure(figsize=(10, 6), dpi=300)\n",
    "plt.xlabel('Epoch')\n",
    "plt.ylabel('Mean Squared Error')\n",
    "plt.plot(mse_loss_training, label='Training')\n",
    "plt.plot(mse_loss_validation, label='Validation')\n",
    "plt.style.use('dark_background')\n",
    "plt.background_color = 'black'\n",
    "plt.legend()\n",
    "\n"
   ]
  },
  {
   "cell_type": "markdown",
   "metadata": {},
   "source": []
  },
  {
   "cell_type": "code",
   "execution_count": 12,
   "metadata": {},
   "outputs": [
    {
     "name": "stdout",
     "output_type": "stream",
     "text": [
      "Sample predictions:\n",
      "Predicted: 0.16972325452814385, Actual: 0.017553326898321286\n",
      "Predicted: 0.30810849823491915, Actual: 0.3267993759928133\n",
      "Predicted: 0.06660551196420855, Actual: 0.06712886529856418\n",
      "Predicted: 0.010586945878265308, Actual: 0.0022566378747028992\n",
      "Predicted: 0.09361618765842505, Actual: 0.15310441296312305\n",
      "Predicted: 0.11966976957218481, Actual: 0.02759536711676553\n",
      "Predicted: 0.1581208815715136, Actual: 0.06196438457596192\n",
      "Predicted: 0.24658487391517764, Actual: 0.04602737670428895\n",
      "Predicted: 0.10697182852578463, Actual: 0.07227367278181546\n",
      "Predicted: 0.42297419114304063, Actual: 0.5164355939195673\n"
     ]
    }
   ],
   "source": [
    "# sample predictions\n",
    "\n",
    "samples = X_test[:10]\n",
    "predictions = np.dot(samples, w) + b\n",
    "\n",
    "print(\"Sample predictions:\")\n",
    "for i in range(10):\n",
    "    print(f\"Predicted: {predictions[i]}, Actual: {y_test.iloc[i]}\")\n"
   ]
  },
  {
   "cell_type": "markdown",
   "metadata": {},
   "source": []
  },
  {
   "cell_type": "markdown",
   "metadata": {},
   "source": []
  },
  {
   "cell_type": "markdown",
   "metadata": {},
   "source": [
    "##### we will handle overfitting by using regularization in a later notebook"
   ]
  },
  {
   "cell_type": "markdown",
   "metadata": {},
   "source": []
  }
 ],
 "metadata": {
  "kernelspec": {
   "display_name": "venv",
   "language": "python",
   "name": "python3"
  },
  "language_info": {
   "codemirror_mode": {
    "name": "ipython",
    "version": 3
   },
   "file_extension": ".py",
   "mimetype": "text/x-python",
   "name": "python",
   "nbconvert_exporter": "python",
   "pygments_lexer": "ipython3",
   "version": "3.13.0"
  }
 },
 "nbformat": 4,
 "nbformat_minor": 2
}
